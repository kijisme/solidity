{
 "cells": [
  {
   "cell_type": "code",
   "execution_count": 1,
   "metadata": {},
   "outputs": [
    {
     "name": "stdout",
     "output_type": "stream",
     "text": [
      "smartbugs.json 143\n",
      "error.json 388\n",
      "clean.json 2354\n",
      "solidifi.json 350\n"
     ]
    }
   ],
   "source": [
    "import os\n",
    "import json\n",
    "\n",
    "root_json = '/workspaces/solidity/json'\n",
    "for json_file in os.listdir(root_json):\n",
    "    with open(os.path.join(root_json, json_file), 'r') as f:\n",
    "        items = json.load(f)\n",
    "    print(json_file, len(items))"
   ]
  },
  {
   "cell_type": "code",
   "execution_count": 21,
   "metadata": {},
   "outputs": [],
   "source": [
    "import os \n",
    "\n",
    "dir = '/workspaces/solidity/integrate_dataset'\n",
    "for vuln in os.listdir(dir):\n",
    "    if vuln == 'clean':\n",
    "        continue\n",
    "    path = os.path.join(dir, vuln, 'integrate', 'vulnerabilities.json')\n",
    "    new_path = os.path.join(dir, vuln, 'integrate', 'vuln_vulnerabilities.json')\n",
    "    os.rename(path, new_path)"
   ]
  },
  {
   "cell_type": "code",
   "execution_count": 2,
   "metadata": {},
   "outputs": [],
   "source": [
    "import json\n",
    "\n",
    "path_error = '/workspaces/solidity/error.json'\n",
    "path_clean = '/workspaces/solidity/integrate_dataset/clean/clean_vulnerabilities.json'\n",
    "\n",
    "with open(path_error, 'r') as f:\n",
    "    item_error = json.load(f)\n",
    "\n",
    "with open(path_clean, 'r') as f:\n",
    "    item_clean = json.load(f)\n",
    "\n",
    "for error in item_error:\n",
    "    for clean in item_clean:\n",
    "        if error['name'] == clean['name']:\n",
    "            clean['version'] = '0.5.0'\n",
    "\n",
    "with open(path_clean, 'w') as f:\n",
    "     json.dump(item_clean, f)\n"
   ]
  },
  {
   "cell_type": "code",
   "execution_count": 30,
   "metadata": {},
   "outputs": [],
   "source": [
    "import os\n",
    "import networkx as nx\n",
    "\n",
    "cfg_path = '/workspaces/solidity/integrate_dataset/other/integrate/cfg.gpickle'\n",
    "cfg = nx.read_gpickle(cfg_path)\n",
    "\n",
    "all_function = {}\n",
    "for node, node_data in cfg.nodes(data=True):\n",
    "    if node_data['source_file'] not in all_function.keys():\n",
    "        all_function[node_data['source_file']] = []\n",
    "    if node_data['node_type'] == 'FUNCTION':\n",
    "        all_function[node_data['source_file']].append(node_data['node_token'])"
   ]
  },
  {
   "cell_type": "code",
   "execution_count": 31,
   "metadata": {},
   "outputs": [],
   "source": [
    "import os\n",
    "import networkx as nx\n",
    "\n",
    "cg_path = '/workspaces/solidity/integrate_dataset/other/integrate/cg.gpickle'\n",
    "cg = nx.read_gpickle(cg_path)\n",
    "\n",
    "all_function_cg = {}\n",
    "for node, node_data in cg.nodes(data=True):\n",
    "    # print(node_data['source_file'])\n",
    "    if node_data['source_file'] not in all_function_cg.keys():\n",
    "        all_function_cg[node_data['source_file']] = []\n",
    "    if node_data['node_type'].split('_')[-1] == 'function':\n",
    "        all_function_cg[node_data['source_file']].append(node_data['node_token'])"
   ]
  },
  {
   "cell_type": "code",
   "execution_count": 32,
   "metadata": {},
   "outputs": [
    {
     "name": "stdout",
     "output_type": "stream",
     "text": [
      "6\n",
      "2\n",
      "8\n",
      "38\n",
      "65\n",
      "22\n"
     ]
    }
   ],
   "source": [
    "for file in all_function:\n",
    "    print(len(all_function[file]))"
   ]
  },
  {
   "cell_type": "code",
   "execution_count": 33,
   "metadata": {},
   "outputs": [
    {
     "name": "stdout",
     "output_type": "stream",
     "text": [
      "5\n",
      "1\n",
      "7\n",
      "21\n",
      "42\n",
      "20\n"
     ]
    }
   ],
   "source": [
    "for file in all_function_cg:\n",
    "    print(len(all_function_cg[file]))"
   ]
  },
  {
   "cell_type": "code",
   "execution_count": 173,
   "metadata": {},
   "outputs": [
    {
     "name": "stdout",
     "output_type": "stream",
     "text": [
      "Switched global version to 0.4.25\n"
     ]
    },
    {
     "name": "stdout",
     "output_type": "stream",
     "text": [
      "Switched global version to 0.4.16\n",
      "Switched global version to 0.4.21\n",
      "Switched global version to 0.4.0\n",
      "Switched global version to 0.4.0\n",
      "Switched global version to 0.4.24\n",
      "Switched global version to 0.4.25\n",
      "Switched global version to 0.4.13\n",
      "Switched global version to 0.4.24\n",
      "Switched global version to 0.4.22\n",
      "Switched global version to 0.4.18\n",
      "Switched global version to 0.4.24\n",
      "Switched global version to 0.4.24\n",
      "Switched global version to 0.4.23\n",
      "Switched global version to 0.4.19\n",
      "Switched global version to 0.4.18\n",
      "[531] [362]\n",
      "[531] [316]\n"
     ]
    }
   ],
   "source": [
    "\n",
    "import os\n",
    "import json\n",
    "import subprocess\n",
    "import networkx as nx\n",
    "from slither.slither import Slither\n",
    "\n",
    "def get_path_and_version(error_dir):\n",
    "    path_version_dir = []\n",
    "    dataset_dir = '/workspaces/solidity/integrate_dataset'\n",
    "\n",
    "    for error_ in os.listdir(error_dir):\n",
    "        error_name = error_.split('_error.json')[0]\n",
    "        source_json_path = os.path.join(error_dir, error_)\n",
    "        target_json_path = os.path.join(dataset_dir, error_name, 'integrate', 'vulnerabilities.json')\n",
    "        with open(source_json_path, 'r') as f:\n",
    "            source = json.load(f)\n",
    "        with open(target_json_path, 'r') as f:\n",
    "            target = json.load(f)\n",
    "        for source_item in source['vuln']:\n",
    "            for target_item in target:\n",
    "                if source_item == target_item['name'].split('.sol')[0]:\n",
    "                    path_version_dir.append(target_item)\n",
    "    return path_version_dir\n",
    "\n",
    "def get_cfg_functions(slither, sol_file_name):\n",
    "    functions = set()\n",
    "    for contract in slither.contracts:\n",
    "        for function in contract.functions + contract.modifiers:\n",
    "            token = f'{sol_file_name}_{contract.name}_{function.full_name}'\n",
    "            # token = function.contract_declarer.name\n",
    "            functions.add(token) \n",
    "    return functions\n",
    "\n",
    "def get_cg_functions(slither, sol_file_name):\n",
    "    \n",
    "    all_functionss = [\n",
    "        compilation_unit.functions for compilation_unit in slither.compilation_units\n",
    "    ]\n",
    "    all_functions = [item for sublist in all_functionss for item in sublist]\n",
    "    # constract = set([function.contract_declarer.name for function in all_functions])\n",
    "    all_functions_as_dict = {\n",
    "            function.canonical_name: function for function in all_functions\n",
    "        }\n",
    "    functions = all_functions_as_dict.values()\n",
    "\n",
    "    functions = [f'{sol_file_name}_{function.contract_declarer.name}_{function.full_name}' for function in all_functions]\n",
    "    return functions\n",
    "\n",
    "def count_f_num(graph_dir, type):\n",
    "    count = 0\n",
    "    all_fun = []\n",
    "    graph = nx.read_gpickle(graph_dir)\n",
    "    for node, node_data in graph.nodes(data=True):\n",
    "        if type == 'cfg':\n",
    "            if node_data['node_type'] == 'FUNCTION':\n",
    "                count = count + 1\n",
    "                all_fun.append(node_data['node_token'])\n",
    "        elif type == 'cg':\n",
    "            if node_data['node_type'] == 'fallback_function' or node_data['node_type'] == 'contract_function':\n",
    "                count = count + 1\n",
    "                all_fun.append(node_data['node_token'])\n",
    "    return count, all_fun\n",
    "\n",
    "# error_dir = '/workspaces/solidity/error'\n",
    "# path_version_dir = get_path_and_version(error_dir)\n",
    "# print(len(path_version_dir))\n",
    "# vuln_type = [x for x in os.listdir('/workspaces/solidity/integrate_dataset') if x!='clean']\n",
    "vuln_type = ['bad_randomness']\n",
    "cfg_f_counts = []\n",
    "cg_f_counts = []\n",
    "\n",
    "cfg_counts = []\n",
    "cg_counts = []\n",
    "\n",
    "for vuln in vuln_type:\n",
    "    dir = f'/workspaces/solidity/integrate_dataset/{vuln}/integrate'\n",
    "    json_dir = os.path.join(dir, 'vulnerabilities.json')\n",
    "    cfg_dir = os.path.join(dir, 'cfg.gpickle')\n",
    "    cg_dir = os.path.join(dir, 'cg.gpickle')\n",
    "\n",
    "    with open(json_dir, 'r') as f:\n",
    "        path_version_dir =json.load(f)\n",
    "\n",
    "    cfg_f_count , all_cfg = count_f_num(cfg_dir, 'cfg')\n",
    "    cg_f_count , all_cg = count_f_num(cg_dir, 'cg')\n",
    "\n",
    "    cfg_functions = []\n",
    "    cg_functions = []\n",
    "\n",
    "    for file_item in path_version_dir:\n",
    "        version = file_item['version']\n",
    "        # 设置为当前版本\n",
    "        command = f\"solc-select use {version}\"\n",
    "        subprocess.run(command, shell=True)\n",
    "        # 获取文件路径\n",
    "        sol_file_path = file_item['path']\n",
    "        # 获取文件名称\n",
    "        sol_file_name = file_item['name']\n",
    "        # 使用slither解析\n",
    "        slither = Slither(sol_file_path)\n",
    "\n",
    "        cfg_function = get_cfg_functions(slither, sol_file_name)\n",
    "        cg_function = get_cg_functions(slither, sol_file_name)\n",
    "\n",
    "        cfg_functions.extend(list(cfg_function))\n",
    "        cg_functions.extend(list(cg_function))\n",
    "\n",
    "    cfg_f_counts.append(cfg_f_count)\n",
    "    cg_f_counts.append(cg_f_count)\n",
    "\n",
    "    cfg_counts.append(len(cfg_functions))\n",
    "    cg_counts.append(len(set(cg_functions)))\n",
    "\n",
    "    print(cfg_f_counts, cg_f_counts)\n",
    "    print(cfg_counts, cg_counts)\n",
    "    "
   ]
  },
  {
   "cell_type": "code",
   "execution_count": 174,
   "metadata": {},
   "outputs": [
    {
     "name": "stdout",
     "output_type": "stream",
     "text": [
      "[531] [362]\n",
      "[531] [316]\n",
      "True\n",
      "True\n",
      "46\n",
      "{'clean_0x26fe2d1d3d288f2f2fe5bfff40be832e814137b6.sol_StandardToken_whenNotPaused()', 'clean_0x9e86da479dfdbc618d0a46759555154bdb06d06d.sol_CliftonSavingsBankInternationalUnionCoins_safeAdd(uint256,uint256)', 'clean_0xc719d010b63e5bbf2c0551872cd5316ed26acd83.sol_Ownable_onlyOwner()', 'clean_0x4983f767b1bc44328e434729ddabea0a064ca1ac.sol_Constant__mint(address,uint256)', 'clean_0x4983f767b1bc44328e434729ddabea0a064ca1ac.sol_Constant__burn(address,uint256)', 'clean_0x26fe2d1d3d288f2f2fe5bfff40be832e814137b6.sol_Ownable_onlyOwner()', 'clean_0x8fbcb3f7a4c48dd9500ba20b5254c08d75403ba1.sol_MobilinkToken_beforeStageOneClosed()', 'clean_0xa07519032c24799354b6efedd38c3b704226b2f2.sol_ERC223Token_whenNotPaused()', 'clean_0xc719d010b63e5bbf2c0551872cd5316ed26acd83.sol_MintableToken_canMint()', 'clean_0x26fe2d1d3d288f2f2fe5bfff40be832e814137b6.sol_JLCToken_balanceOf(address)', 'clean_0xc719d010b63e5bbf2c0551872cd5316ed26acd83.sol_DipToken_shouldNotBeLockedIn(address)', 'clean_0xa07519032c24799354b6efedd38c3b704226b2f2.sol_NAi_onlyOwner()', 'clean_0xc719d010b63e5bbf2c0551872cd5316ed26acd83.sol_Pausable_onlyOwner()', 'clean_0xa07519032c24799354b6efedd38c3b704226b2f2.sol_TokenRepository_onlyOwner()', 'clean_0xa07519032c24799354b6efedd38c3b704226b2f2.sol_Ownable_onlyOwner()', 'clean_0x8fbcb3f7a4c48dd9500ba20b5254c08d75403ba1.sol_MobilinkToken_onlyOwner()', 'clean_0xc719d010b63e5bbf2c0551872cd5316ed26acd83.sol_MintableToken_onlyOwner()', 'clean_0x9e86da479dfdbc618d0a46759555154bdb06d06d.sol_Ownable_onlyOwner()', 'clean_0x26fe2d1d3d288f2f2fe5bfff40be832e814137b6.sol_JLCToken_transfer(address,uint256)', 'clean_0xc719d010b63e5bbf2c0551872cd5316ed26acd83.sol_PausableToken_whenNotPaused()', 'smartbugs_bad_randomness_smart_billions.sol_BasicToken_commitDividend(address)', 'smartbugs_bad_randomness_smart_billions.sol_StandardToken_commitDividend(address)', 'clean_0x26fe2d1d3d288f2f2fe5bfff40be832e814137b6.sol_Pausable_whenPaused()', 'clean_0xa07519032c24799354b6efedd38c3b704226b2f2.sol_Pausable_onlyOwner()', 'smartbugs_bad_randomness_lucky_doubler.sol_LuckyDoubler_onlyowner()', 'clean_0xd138be69f9b7c0028a89a43c6597d900932438a1.sol_DealsRootStorage_onlyOwner()', 'clean_0xd138be69f9b7c0028a89a43c6597d900932438a1.sol_Ownable_onlyOwner()', 'clean_0xa07519032c24799354b6efedd38c3b704226b2f2.sol_TokenRepository_transferOwnership(address)', 'clean_0x8fbcb3f7a4c48dd9500ba20b5254c08d75403ba1.sol_MobilinkToken_afterStageOneClosed()', 'clean_0x26fe2d1d3d288f2f2fe5bfff40be832e814137b6.sol_Pausable_whenNotPaused()', 'smartbugs_bad_randomness_smart_billions.sol_BasicToken_onlyPayloadSize(uint256)', 'clean_0x26fe2d1d3d288f2f2fe5bfff40be832e814137b6.sol_Pausable_onlyOwner()', 'smartbugs_bad_randomness_smart_billions.sol_SmartBillions_onlyOwner()', 'smartbugs_bad_randomness_smart_billions.sol_SmartBillions_onlyAnimator()', 'clean_0x26fe2d1d3d288f2f2fe5bfff40be832e814137b6.sol_JLCToken_onlyOwner()', 'clean_0x9e86da479dfdbc618d0a46759555154bdb06d06d.sol_CliftonSavingsBankInternationalUnionCoins_safeSub(uint256,uint256)', 'clean_0x4983f767b1bc44328e434729ddabea0a064ca1ac.sol_Constant__transfer(address,address,uint256)', 'clean_0xa07519032c24799354b6efedd38c3b704226b2f2.sol_Pausable_whenPaused()', 'clean_0x4983f767b1bc44328e434729ddabea0a064ca1ac.sol_Constant_onlyAdmin()', 'clean_0xc719d010b63e5bbf2c0551872cd5316ed26acd83.sol_DipToken_onlyOwner()', 'clean_0xa07519032c24799354b6efedd38c3b704226b2f2.sol_Pausable_whenNotPaused()', 'smartbugs_bad_randomness_blackjack.sol_BlackJack_gameIsGoingOn()', 'clean_0xc719d010b63e5bbf2c0551872cd5316ed26acd83.sol_Pausable_whenPaused()', 'clean_0x26fe2d1d3d288f2f2fe5bfff40be832e814137b6.sol_StandardToken_onlyOwner()', 'smartbugs_bad_randomness_smart_billions.sol_StandardToken_onlyPayloadSize(uint256)', 'clean_0xc719d010b63e5bbf2c0551872cd5316ed26acd83.sol_Pausable_whenNotPaused()'}\n"
     ]
    }
   ],
   "source": [
    "print(cfg_f_counts, cg_f_counts)\n",
    "print(cfg_counts, cg_counts)\n",
    "\n",
    "print(set(all_cfg) >= set(all_cg))\n",
    "print(set(all_cg) >= set(cg_functions))\n",
    "# print(set(cg_functions) <= set(cfg_functions))\n",
    "# print(set(cfg_functions) <= set(all_cfg))\n",
    "print(len(set(all_cg) - set(cg_functions)))\n",
    "print(set(all_cg) - set(cg_functions))"
   ]
  },
  {
   "cell_type": "code",
   "execution_count": 176,
   "metadata": {},
   "outputs": [],
   "source": [
    "import os\n",
    "import json\n",
    "import networkx as nx\n",
    "\n",
    "def count_f_num(graph_dir, type):\n",
    "    count = 0\n",
    "    all_fun = []\n",
    "    graph = nx.read_gpickle(graph_dir)\n",
    "    for node, node_data in graph.nodes(data=True):\n",
    "        if type == 'cfg':\n",
    "            if node_data['node_type'] == 'FUNCTION':\n",
    "                count = count + 1\n",
    "                all_fun.append(node_data['node_token'])\n",
    "        elif type == 'cg':\n",
    "            if node_data['node_type'] == 'fallback_function' or node_data['node_type'] == 'contract_function':\n",
    "                count = count + 1\n",
    "                all_fun.append(node_data['node_token'])\n",
    "    return all_fun\n",
    "\n",
    "# [x for x in os.listdir('/workspaces/solidity/integrate_dataset') if x != 'clean']\n",
    "for vuln in ['bad_randomness']:\n",
    "    path_cg = f'/workspaces/solidity/integrate_dataset/{vuln}/integrate/cg.gpickle'\n",
    "    path_cfg = f'/workspaces/solidity/integrate_dataset/{vuln}/integrate/cfg.gpickle'\n",
    "\n",
    "\n",
    "    graph_cg = count_f_num(path_cg, 'cg')\n",
    "    graph_cfg = count_f_num(path_cg, 'cg')\n",
    "\n",
    "    tokens = set(graph_cg) - set(graph_cfg)\n",
    "    graph = nx.read_gpickle(path_cg)\n",
    "    for node, node_data in graph.nodes(data=True):\n",
    "        for token in tokens:\n",
    "            if node_data['node_token'] == token:\n",
    "                for source, target, edge_data in graph.edges(data=True):\n",
    "                    if node == source or node == target:\n",
    "                        # if edge_data['edge_type'] != 'external_call':\n",
    "                        print(edge_data['edge_type'], node_data['node_token'])\n"
   ]
  },
  {
   "cell_type": "code",
   "execution_count": 23,
   "metadata": {},
   "outputs": [
    {
     "name": "stdout",
     "output_type": "stream",
     "text": [
      "Switched global version to 0.4.25\n"
     ]
    },
    {
     "name": "stdout",
     "output_type": "stream",
     "text": [
      "ClockAuction(address,uint256)\n",
      "withdrawBalance()\n",
      "createAuction(uint256,uint256,uint256,uint256,address)\n",
      "bid(uint256)\n",
      "cancelAuction(uint256)\n",
      "cancelAuctionWhenPaused(uint256)\n",
      "getAuction(uint256)\n",
      "getCurrentPrice(uint256)\n",
      "_owns(address,uint256)\n",
      "_escrow(address,uint256)\n",
      "_transfer(address,uint256)\n",
      "_addAuction(uint256,ClockAuctionBase.Auction)\n",
      "_cancelAuction(uint256,address)\n",
      "_bid(uint256,uint256)\n",
      "_removeAuction(uint256)\n",
      "_isOnAuction(ClockAuctionBase.Auction)\n",
      "_currentPrice(ClockAuctionBase.Auction)\n",
      "_computeCurrentPrice(uint256,uint256,uint256,uint256)\n",
      "_computeCut(uint256)\n",
      "pause()\n",
      "unpause()\n",
      "Ownable()\n",
      "transferOwnership(address)\n",
      "SiringClockAuction(address,uint256)\n",
      "createAuction(uint256,uint256,uint256,uint256,address)\n",
      "bid(uint256)\n",
      "slitherConstructorVariables()\n",
      "slitherConstructorConstantVariables()\n",
      "whenNotPaused()\n",
      "whenPaused()\n",
      "onlyOwner()\n"
     ]
    }
   ],
   "source": [
    "# 对于继承的变量的解析\n",
    "import subprocess\n",
    "import networkx as nx\n",
    "from slither.slither import Slither\n",
    "from slither.core.cfg.node import NodeType\n",
    "\n",
    "version = '0.4.25'\n",
    "# 设置为当前版本\n",
    "command = f\"solc-select use {version}\"\n",
    "subprocess.run(command, shell=True)\n",
    "# 获取文件路径\n",
    "sol_file_path = '/workspaces/solidity/smartbugs_unchecked_low_level_calls_0x663e4229142a27f00bafb5d087e1e730648314c3.sol'\n",
    "# 使用slither解析\n",
    "slither = Slither(sol_file_path)\n",
    "\n",
    "for contract in slither.contracts:\n",
    "    # print('name:', contract.name)\n",
    "    # print([x.name for x in contract.state_variables])\n",
    "    if contract.name == 'SiringClockAuction':\n",
    "        # print([x.name for x in contract.state_variables])\n",
    "        for function in contract.functions + contract.modifiers:\n",
    "            if function.contract_declarer.name != contract.name:\n",
    "                    # 继承的私有函数不属于当前合约\n",
    "                    if function.visibility == 'private':\n",
    "                        continue\n",
    "            print(function.full_name)\n",
    "        #     print('----', function.contract.name, function.name, function.visibility, [(x.full_name, x.contract.name, x.visibility) for x in function.state_variables_read + function.state_variables_written])\n",
    "       \n"
   ]
  },
  {
   "cell_type": "code",
   "execution_count": 20,
   "metadata": {},
   "outputs": [
    {
     "name": "stdout",
     "output_type": "stream",
     "text": [
      "arithmetic\n",
      "130 130\n",
      "65 65\n",
      "short_addresses\n",
      "2 2\n",
      "1 1\n",
      "other\n",
      "6 6\n",
      "3 3\n",
      "bad_randomness\n",
      "16 16\n",
      "8 8\n",
      "access_control\n",
      "136 136\n",
      "68 68\n",
      "front_running\n",
      "108 108\n",
      "54 54\n",
      "unchecked_low_level_calls\n",
      "204 204\n",
      "102 102\n",
      "reentrancy\n",
      "162 162\n",
      "81 81\n",
      "denial_of_service\n",
      "112 112\n",
      "56 56\n",
      "time_manipulation\n",
      "110 110\n",
      "55 55\n"
     ]
    }
   ],
   "source": [
    "# 检测json文件是否出现重复\n",
    "import json\n",
    "import os\n",
    "\n",
    "def check_diff(json_path):\n",
    "    all_index = {}\n",
    "    with open(json_path) as f:\n",
    "        items = json.load(f)\n",
    "    for item in items:\n",
    "        if item['name'] not in all_index.keys():\n",
    "            all_index[item['name']] = 1\n",
    "        else:\n",
    "            all_index[item['name']] += 1\n",
    "    \n",
    "    for index in all_index:\n",
    "        if all_index[index] > 1:\n",
    "            print(index, all_index[index])\n",
    "\n",
    "def check_num(json_path_1, json_path_2):\n",
    "    with open(json_path_1) as f:\n",
    "        len_1 = len(json.load(f))\n",
    "    with open(json_path_2) as f:\n",
    "        len_2 = len(json.load(f))\n",
    "    print(len_1,len_2)\n",
    "\n",
    "def get_json_pair(dataset_root):\n",
    "    all_vuln = [x for x in os.listdir(dataset_root) if x != 'clean']\n",
    "    for vuln in all_vuln:\n",
    "        path_1 = os.path.join(dataset_root, vuln, 'integrate', 'vulnerabilities.json')\n",
    "        path_2 = os.path.join(dataset_root, vuln, 'integrate', 'graph_label.json')\n",
    "        path_3 = os.path.join(dataset_root, vuln, 'integrate', 'clean_vulnerabilities.json')\n",
    "        path_4 = os.path.join(dataset_root, vuln, 'integrate', 'vuln_vulnerabilities.json')\n",
    "        print(vuln)\n",
    "        check_num(path_1, path_2)\n",
    "        check_num(path_3, path_4)\n",
    "        check_diff(path_3)\n",
    "\n",
    "dataset_root = '/workspaces/solidity/integrate_dataset'\n",
    "get_json_pair(dataset_root)\n",
    "json_path = '/workspaces/solidity/integrate_dataset/clean/clean_vulnerabilities.json'\n",
    "# check_diff(json_path)\n"
   ]
  },
  {
   "cell_type": "code",
   "execution_count": 19,
   "metadata": {},
   "outputs": [
    {
     "data": {
      "text/plain": [
       "array([2, 3, 1, 0, 4])"
      ]
     },
     "execution_count": 19,
     "metadata": {},
     "output_type": "execute_result"
    }
   ],
   "source": [
    "import numpy as np\n",
    "\n",
    "np.random.choice(a=np.arange(5), size=5, replace=False, p=None)"
   ]
  },
  {
   "cell_type": "code",
   "execution_count": 15,
   "metadata": {},
   "outputs": [
    {
     "name": "stderr",
     "output_type": "stream",
     "text": [
      "100%|██████████| 100/100 [00:00<00:00, 1296.39it/s]"
     ]
    },
    {
     "name": "stdout",
     "output_type": "stream",
     "text": [
      "torch.Size([])\n"
     ]
    },
    {
     "name": "stderr",
     "output_type": "stream",
     "text": [
      "\n"
     ]
    }
   ],
   "source": [
    "import torch\n",
    "import dgl\n",
    "from torch.optim import SparseAdam\n",
    "from torch.utils.data import DataLoader\n",
    "from dgl.nn.pytorch import MetaPath2Vec\n",
    "\n",
    "# Define a model\n",
    "g = dgl.heterograph({\n",
    "    ('user', 'uc', 'company'): dgl.rand_graph(100, 1000).edges(),\n",
    "    ('company', 'cp', 'product'): dgl.rand_graph(100, 1000).edges(),\n",
    "    ('company', 'cu', 'user'): dgl.rand_graph(100, 1000).edges(),\n",
    "    ('product', 'pc', 'company'): dgl.rand_graph(100, 1000).edges()\n",
    "})\n",
    "model = MetaPath2Vec(g, ['uc', 'cu'], window_size=1)\n",
    "# Use the source node type of etype 'uc'\n",
    "dataloader = DataLoader(torch.arange(g.num_nodes('user')), batch_size=128,\n",
    "                        shuffle=True, collate_fn=model.sample)\n",
    "for (pos_u, pos_v, neg_v) in dataloader:\n",
    "    loss = model(pos_u, pos_v, neg_v)\n",
    "    print(loss.shape)"
   ]
  },
  {
   "cell_type": "code",
   "execution_count": 21,
   "metadata": {},
   "outputs": [
    {
     "name": "stdout",
     "output_type": "stream",
     "text": [
      "Nodes of type 'game':\n",
      "{}\n",
      "\n",
      "Nodes of type 'user':\n",
      "{'feature': tensor([[-0.4943,  0.3792,  0.2313],\n",
      "        [ 1.0685,  0.6343, -0.5354],\n",
      "        [ 0.0237,  0.4330, -0.4276]])}\n",
      "\n"
     ]
    }
   ],
   "source": [
    "import dgl\n",
    "\n",
    "# 创建异构图\n",
    "hg = dgl.heterograph({\n",
    "    ('user', 'follows', 'user'): ([0, 1], [1, 2]),\n",
    "    ('user', 'plays', 'game'): ([0, 1], [2, 3]),\n",
    "})\n",
    "\n",
    "# 为'user'类型的节点设置属性\n",
    "hg.nodes['user'].data['feature'] = torch.randn((hg.number_of_nodes('user'), 3))\n",
    "for ntype in hg.ntypes:\n",
    "    print(f\"Nodes of type '{ntype}':\")\n",
    "    print(hg.nodes[ntype].data)\n",
    "    print()"
   ]
  },
  {
   "cell_type": "code",
   "execution_count": 24,
   "metadata": {},
   "outputs": [
    {
     "data": {
      "text/plain": [
       "(tensor([2]),\n",
       " tensor([[-1.1422,  1.0876,  0.2603,  0.2551, -0.5543]], requires_grad=True))"
      ]
     },
     "execution_count": 24,
     "metadata": {},
     "output_type": "execute_result"
    }
   ],
   "source": [
    "torch.randint(5, (1,), dtype=torch.int64), torch.randn(1, 5, requires_grad=True)"
   ]
  },
  {
   "cell_type": "code",
   "execution_count": 15,
   "metadata": {},
   "outputs": [
    {
     "data": {
      "text/plain": [
       "torch.Size([3, 32])"
      ]
     },
     "execution_count": 15,
     "metadata": {},
     "output_type": "execute_result"
    }
   ],
   "source": [
    "import torch\n",
    "\n",
    "a = torch.randn(size=[1,32])\n",
    "b = torch.randn(size=[2,32])\n",
    "c = [a,b]\n",
    "torch.vstack([a,b]).shape"
   ]
  },
  {
   "cell_type": "code",
   "execution_count": 20,
   "metadata": {},
   "outputs": [],
   "source": [
    "import pickle\n",
    "import torch\n",
    "\n",
    "content_emb = '/workspaces/solidity/integrate_dataset/other/integrate/content_emb.pkl'\n",
    "with open(content_emb, 'rb') as f:\n",
    "    embedding = pickle.load(f, encoding=\"utf8\")\n",
    "\n",
    "# print(len(embedding))\n",
    "\n",
    "key_num = []\n",
    "for i in embedding:\n",
    "    key_num.append(i.shape[0])"
   ]
  },
  {
   "cell_type": "code",
   "execution_count": 35,
   "metadata": {},
   "outputs": [
    {
     "data": {
      "text/plain": [
       "1"
      ]
     },
     "execution_count": 35,
     "metadata": {},
     "output_type": "execute_result"
    }
   ],
   "source": [
    "np.min(np.array(key_num))"
   ]
  },
  {
   "cell_type": "code",
   "execution_count": 37,
   "metadata": {},
   "outputs": [
    {
     "data": {
      "image/png": "[encoded data removed]",
      "text/plain": [
       "<Figure size 500x500 with 1 Axes>"
      ]
     },
     "metadata": {},
     "output_type": "display_data"
    }
   ],
   "source": [
    "import numpy as np\n",
    "import seaborn as sns\n",
    "import matplotlib.pyplot as plt\n",
    "\n",
    "# 生成一组随机整数数据作为示例\n",
    "data = np.array(key_num)\n",
    "\n",
    "# # 使用 NumPy 的 `bincount` 函数统计整数分布\n",
    "# counts = np.bincount(data)\n",
    "\n",
    "# 使用 seaborn 绘制整数分布的密度图\n",
    "sns.displot(data, kde=True, bins=np.arange(np.min(data)-0.5, np.max(data)+1.5, 1), color='blue')\n",
    "\n",
    "plt.xlabel('Integer Values')\n",
    "plt.ylabel('Density')\n",
    "plt.title('Integer Value Density Plot')\n",
    "plt.show()\n",
    "\n"
   ]
  },
  {
   "cell_type": "code",
   "execution_count": 5,
   "metadata": {},
   "outputs": [
    {
     "data": {
      "text/plain": [
       "(5, 12)"
      ]
     },
     "execution_count": 5,
     "metadata": {},
     "output_type": "execute_result"
    }
   ],
   "source": [
    "import numpy as np\n",
    "\n",
    "emb = np.ones(shape=(2,12))\n",
    "padding = np.zeros(shape=(3, 12))\n",
    "emb = np.concatenate([emb, padding])\n",
    "emb.shape"
   ]
  },
  {
   "cell_type": "code",
   "execution_count": 29,
   "metadata": {},
   "outputs": [
    {
     "data": {
      "text/plain": [
       "(tensor([[[ 0.0806, -0.4482, -0.8190],\n",
       "          [-1.1523, -0.1530, -0.5185],\n",
       "          [-0.4260,  0.2769,  1.7381]]]),\n",
       " tensor([], size=(0, 3, 3)))"
      ]
     },
     "execution_count": 29,
     "metadata": {},
     "output_type": "execute_result"
    }
   ],
   "source": [
    "import torch\n",
    "import torch.nn as nn\n",
    "\n",
    "a = torch.randn(size=(3,3,3))\n",
    "a[1:1]"
   ]
  }
 ],
 "metadata": {
  "kernelspec": {
   "display_name": "Python 3",
   "language": "python",
   "name": "python3"
  },
  "language_info": {
   "codemirror_mode": {
    "name": "ipython",
    "version": 3
   },
   "file_extension": ".py",
   "mimetype": "text/x-python",
   "name": "python",
   "nbconvert_exporter": "python",
   "pygments_lexer": "ipython3",
   "version": "3.10.13"
  }
 },
 "nbformat": 4,
 "nbformat_minor": 2
}
