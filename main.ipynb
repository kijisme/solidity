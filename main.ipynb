{
 "cells": [
  {
   "cell_type": "code",
   "execution_count": 1,
   "metadata": {},
   "outputs": [
    {
     "name": "stdout",
     "output_type": "stream",
     "text": [
      "smartbugs.json 143\n",
      "error.json 388\n",
      "clean.json 2354\n",
      "solidifi.json 350\n"
     ]
    }
   ],
   "source": [
    "import os\n",
    "import json\n",
    "\n",
    "root_json = '/workspaces/solidity/json'\n",
    "for json_file in os.listdir(root_json):\n",
    "    with open(os.path.join(root_json, json_file), 'r') as f:\n",
    "        items = json.load(f)\n",
    "    print(json_file, len(items))"
   ]
  },
  {
   "cell_type": "code",
   "execution_count": 21,
   "metadata": {},
   "outputs": [],
   "source": [
    "import os \n",
    "\n",
    "dir = '/workspaces/solidity/integrate_dataset'\n",
    "for vuln in os.listdir(dir):\n",
    "    if vuln == 'clean':\n",
    "        continue\n",
    "    path = os.path.join(dir, vuln, 'integrate', 'vulnerabilities.json')\n",
    "    new_path = os.path.join(dir, vuln, 'integrate', 'vuln_vulnerabilities.json')\n",
    "    os.rename(path, new_path)"
   ]
  },
  {
   "cell_type": "code",
   "execution_count": 2,
   "metadata": {},
   "outputs": [],
   "source": [
    "import json\n",
    "\n",
    "path_error = '/workspaces/solidity/error.json'\n",
    "path_clean = '/workspaces/solidity/integrate_dataset/clean/clean_vulnerabilities.json'\n",
    "\n",
    "with open(path_error, 'r') as f:\n",
    "    item_error = json.load(f)\n",
    "\n",
    "with open(path_clean, 'r') as f:\n",
    "    item_clean = json.load(f)\n",
    "\n",
    "for error in item_error:\n",
    "    for clean in item_clean:\n",
    "        if error['name'] == clean['name']:\n",
    "            clean['version'] = '0.5.0'\n",
    "\n",
    "with open(path_clean, 'w') as f:\n",
    "     json.dump(item_clean, f)\n"
   ]
  },
  {
   "cell_type": "code",
   "execution_count": 22,
   "metadata": {},
   "outputs": [],
   "source": [
    "import os\n",
    "import networkx as nx\n",
    "\n",
    "cfg_path = '/workspaces/solidity/integrate_dataset/other/integrate/cfg.gpickle'\n",
    "cfg = nx.read_gpickle(cfg_path)"
   ]
  },
  {
   "cell_type": "code",
   "execution_count": null,
   "metadata": {},
   "outputs": [],
   "source": [
    "\n"
   ]
  }
 ],
 "metadata": {
  "kernelspec": {
   "display_name": "Python 3",
   "language": "python",
   "name": "python3"
  },
  "language_info": {
   "codemirror_mode": {
    "name": "ipython",
    "version": 3
   },
   "file_extension": ".py",
   "mimetype": "text/x-python",
   "name": "python",
   "nbconvert_exporter": "python",
   "pygments_lexer": "ipython3",
   "version": "3.10.13"
  }
 },
 "nbformat": 4,
 "nbformat_minor": 2
}
